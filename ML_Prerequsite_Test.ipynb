{
  "nbformat": 4,
  "nbformat_minor": 0,
  "metadata": {
    "colab": {
      "provenance": []
    },
    "kernelspec": {
      "name": "python3",
      "display_name": "Python 3"
    },
    "language_info": {
      "name": "python"
    }
  },
  "cells": [
    {
      "cell_type": "code",
      "execution_count": 304,
      "metadata": {
        "id": "X-Wnb0oR25Ga"
      },
      "outputs": [],
      "source": [
        "import numpy as np\n",
        "import sympy as sp\n",
        "from sympy import sin\n",
        "from sympy.vector import CoordSysCartesian, gradient\n",
        "from sympy.utilities.lambdify import lambdify\n",
        "import matplotlib.pyplot as plt\n",
        "import pandas as pd\n",
        "import string\n",
        "import random\n",
        "import time\n",
        "import jax\n",
        "import jax.numpy as jnp\n",
        "from jax import grad,value_and_grad\n",
        "from jax.test_util import check_grads"
      ]
    },
    {
      "cell_type": "markdown",
      "source": [
        "Ques1)<br>\n",
        "Sol) <br>\n",
        "     Dimension of Matrix A is (nxk)<br>\n",
        "     Dimension of Matrix B is (kxm)<br>\n",
        "     Dimension of Matrix C = AB is (nxm)<br>\n",
        "     There are total mn number of elements in the result matrix C.<br> \n",
        "     To calculate each element of C, it requires k number of multiplications and,\n",
        "     k-1 number of additions.<br>\n",
        "     To calculate all elements of C, it requires mnk number of multiplications and mn(k-1) number of additions.\n"
      ],
      "metadata": {
        "id": "q87PfgJg5gN4"
      }
    },
    {
      "cell_type": "markdown",
      "source": [
        "Ques2)<br>\n",
        "Sol)<br>\n",
        "Let's take an example of two matrices and A and B to claculate C.<br>\n",
        "Numpy matrix multiplication is faster than the list multiplication because the same numpy employs CBLAS method to computer matrix multiplication, which is highly optimized."
      ],
      "metadata": {
        "id": "BB_IqoSYcsBK"
      }
    },
    {
      "cell_type": "code",
      "source": [
        "A = [[1,2],[3,4],[5,6]]\n",
        "B = [[1,2,3,4],[5,6,7,8]]\n",
        "t = []\n",
        "for r in range(1000):\n",
        "  C = []\n",
        "  for m in range(len(A)):\n",
        "    c = []\n",
        "    for n in range(len(B[0])):\n",
        "      c.append(0)\n",
        "    C.append(c)\n",
        "  start_time = time.time()\n",
        "  for m in range(len(A)):\n",
        "    for n in range(len(B[0])):\n",
        "      for k in range(len(B)):\n",
        "        C[m][n] += A[m][k]*B[k][n]\n",
        "  t.append(time.time() - start_time)\n",
        "t = np.array(t)\n",
        "print(\"--- %s ± %s seconds ---\" % (t.mean(),t.std()))\n",
        "for c in C:\n",
        "  print(c)"
      ],
      "metadata": {
        "colab": {
          "base_uri": "https://localhost:8080/"
        },
        "id": "3w7hbXp27w9r",
        "outputId": "a0c0ba97-16fd-4370-81b0-0a4e100f7351"
      },
      "execution_count": 305,
      "outputs": [
        {
          "output_type": "stream",
          "name": "stdout",
          "text": [
            "--- 1.4887332916259766e-05 ± 3.393515047767652e-06 seconds ---\n",
            "[11, 14, 17, 20]\n",
            "[23, 30, 37, 44]\n",
            "[35, 46, 57, 68]\n"
          ]
        }
      ]
    },
    {
      "cell_type": "code",
      "source": [
        "A = [[1,2],[3,4],[5,6]]\n",
        "A = np.array(A)\n",
        "B = [[1,2,3,4],[5,6,7,8]]\n",
        "B = np.array(B)\n",
        "t = []\n",
        "for r in range(1000):\n",
        "  start_time = time.time()\n",
        "  C = np.matmul(A,B)\n",
        "  t.append(time.time() - start_time)\n",
        "t = np.array(t)\n",
        "print(\"--- %s ± %s seconds ---\" % (t.mean(),t.std()))\n",
        "for c in C:\n",
        "  print(c)"
      ],
      "metadata": {
        "colab": {
          "base_uri": "https://localhost:8080/"
        },
        "id": "-xQcbElmEA4v",
        "outputId": "cf581147-ba09-447a-9bf4-5e465f14f9f6"
      },
      "execution_count": 306,
      "outputs": [
        {
          "output_type": "stream",
          "name": "stdout",
          "text": [
            "--- 6.325244903564453e-06 ± 0.00011240771120762679 seconds ---\n",
            "[11 14 17 20]\n",
            "[23 30 37 44]\n",
            "[35 46 57 68]\n"
          ]
        }
      ]
    },
    {
      "cell_type": "markdown",
      "source": [
        "Ques3)<br>\n",
        "Sol)<br>\n",
        "Array of length N<br>\n",
        "To find maximum element, it requires = 1 pass<br>\n",
        "    => search N elements<br>\n",
        "To find second highest element, it requires = 2 passes<br>\n",
        "    => search 2N elements<br>\n",
        "To find median of the array, it requires = (N+1)/2 (odd) or N/2 + 1 (even) \n",
        "passes<br>\n",
        "    => search N*(N+1)/2 or N*(N/2 + 1) elements<br>\n",
        "∴ The time complexity to compute median with this mehtod is O(N^2).<br>\n",
        "The efficient method to calculate median is by emplyong heap sort having O(nlogn) worst case time complexity with limited iterations. <br>\n",
        "It does not require to sort the complete array rather sort half of the array and then extract the middle number with having prior knowledge of length of an array."
      ],
      "metadata": {
        "id": "jQXmIfkSFabv"
      }
    },
    {
      "cell_type": "code",
      "source": [
        "arr = np.random.rand(1001)"
      ],
      "metadata": {
        "id": "gHWoVmdSFZaM"
      },
      "execution_count": 298,
      "outputs": []
    },
    {
      "cell_type": "code",
      "source": [
        "#Iterative pass based median\n",
        "def median_pass(arr):\n",
        "  N = arr.shape[0]\n",
        "  median = []\n",
        "  gb_high = None\n",
        "  if N%2 == 0:\n",
        "    for i in range(int(N/2)):\n",
        "      aux_high = float('-inf')\n",
        "      if i == 0:      \n",
        "        for val in arr:\n",
        "          if val > aux_high:\n",
        "            aux_high = val\n",
        "        gb_high = aux_high\n",
        "      else:\n",
        "        for val in arr:\n",
        "          if val > aux_high and val < gb_high:\n",
        "            aux_high = val\n",
        "        gb_high = aux_high\n",
        "    median.append(gb_high)\n",
        "    aux_high = float('-inf')\n",
        "    for val in arr:\n",
        "      if val > aux_high and val < gb_high:\n",
        "        aux_high = val\n",
        "    gb_high = aux_high\n",
        "    median.append(gb_high)\n",
        "    return (median[0] + median[1])/2\n",
        "  else:\n",
        "    for i in range(int((N+1)/2)):\n",
        "      aux_high = float('-inf')\n",
        "      if i == 0:      \n",
        "        for val in arr:\n",
        "          if val > aux_high:\n",
        "            aux_high = val\n",
        "        gb_high = aux_high.copy()\n",
        "      else:\n",
        "        for val in arr:\n",
        "          if val < gb_high and val > aux_high:\n",
        "            aux_high = val        \n",
        "        gb_high = aux_high.copy()\n",
        "    median.append(gb_high)\n",
        "    return median[0]"
      ],
      "metadata": {
        "id": "7rkE1gqjHwko"
      },
      "execution_count": 299,
      "outputs": []
    },
    {
      "cell_type": "code",
      "source": [
        "t = []\n",
        "for r in range(1000):\n",
        "  start_time = time.time()\n",
        "  med = median_pass(arr)\n",
        "  t.append(time.time() - start_time)\n",
        "t = np.array(t)\n",
        "print(\"--- %s ± %s seconds ---\" % (t.mean(),t.std()))\n",
        "print('median = %s' %med)"
      ],
      "metadata": {
        "colab": {
          "base_uri": "https://localhost:8080/"
        },
        "id": "8WfrOWOcKbDa",
        "outputId": "5630ea74-04f3-4b51-b89f-098a0282cb1f"
      },
      "execution_count": 300,
      "outputs": [
        {
          "output_type": "stream",
          "name": "stdout",
          "text": [
            "--- 0.06301336479187011 ± 0.003949900622485602 seconds ---\n",
            "median = 0.47033362837010584\n"
          ]
        }
      ]
    },
    {
      "cell_type": "code",
      "source": [
        "#Efficient Heap Sort based median\n",
        "def heap_data(arr, N, i):\n",
        "  max = i  \n",
        "  l = 2*i + 1     \n",
        "  r = 2*i + 2     \n",
        "  if l < N and arr[max] < arr[l]:\n",
        "    max = l\n",
        "  if r < N and arr[max] < arr[r]:\n",
        "    max = r\n",
        "  if max != i:\n",
        "    arr[i], arr[max] = arr[max], arr[i]  \n",
        "    heap_data(arr, N, max)\n",
        "\n",
        "def heapSort(arr, N, M):\n",
        "  for i in range(N//2 - 1, -1, -1):\n",
        "    heap_data(arr, N, i)\n",
        "  for i in range(N-1, M, -1):\n",
        "    arr[i], arr[0] = arr[0], arr[i]  \n",
        "    heap_data(arr, i, 0)\n",
        "  return arr\n",
        "\n",
        "def median_eff(arr):\n",
        "  N = arr.shape[0]\n",
        "  if N%2 == 0:\n",
        "    M = int(N/2) - 2\n",
        "    arr = heapSort(arr, N, M)\n",
        "    return (arr[int(N/2)-1] + arr[int(N/2)])/2\n",
        "  else:\n",
        "    M = int((N-1)/2)\n",
        "    arr = heapSort(arr, N, M)\n",
        "    return (arr[0])"
      ],
      "metadata": {
        "id": "oJNtlz9ImqQm"
      },
      "execution_count": 301,
      "outputs": []
    },
    {
      "cell_type": "code",
      "source": [
        "t = []\n",
        "for r in range(1000):\n",
        "  start_time = time.time()\n",
        "  med = median_eff(arr)\n",
        "  t.append(time.time() - start_time)\n",
        "t = np.array(t)\n",
        "print(\"--- %s ± %s seconds ---\" % (t.mean(),t.std()))\n",
        "print('median = %s' %med)"
      ],
      "metadata": {
        "colab": {
          "base_uri": "https://localhost:8080/"
        },
        "id": "dfAUHe96mh34",
        "outputId": "fe7da494-4c11-43ae-ddfd-b8828a515fd5"
      },
      "execution_count": 302,
      "outputs": [
        {
          "output_type": "stream",
          "name": "stdout",
          "text": [
            "--- 0.007068842172622681 ± 0.0009432657775952111 seconds ---\n",
            "median = 0.47033362837010584\n"
          ]
        }
      ]
    },
    {
      "cell_type": "code",
      "source": [
        "#Numpy module\n",
        "t = []\n",
        "for r in range(1000):\n",
        "  start_time = time.time()\n",
        "  med = np.median(arr)\n",
        "  t.append(time.time() - start_time)\n",
        "t = np.array(t)\n",
        "print(\"--- %s ± %s seconds ---\" % (t.mean(),t.std()))\n",
        "print('median = %s' %med)"
      ],
      "metadata": {
        "colab": {
          "base_uri": "https://localhost:8080/"
        },
        "id": "Y8TrvA8Ac3L-",
        "outputId": "299b9e5e-1970-48af-ff63-7144bed05c0a"
      },
      "execution_count": 307,
      "outputs": [
        {
          "output_type": "stream",
          "name": "stdout",
          "text": [
            "--- 4.110455513000488e-05 ± 0.00011091502259306307 seconds ---\n",
            "median = 0.47033362837010584\n"
          ]
        }
      ]
    },
    {
      "cell_type": "markdown",
      "source": [
        "Observations:<br>\n",
        "1) Iterative pass method (as per given in the question) = 0.063 secs<br>\n",
        "2) Efficient Heap Sort method (with limited iterations) = 0.007 secs<br>\n",
        "3) Numpy median method = 0.47*10^-5 secs<br>\n",
        "It is apparently observable that the numpy is the fastest one, <br>whereas heap sort methdod is 9 times faster than the pass method."
      ],
      "metadata": {
        "id": "gN0nycvAvYiJ"
      }
    },
    {
      "cell_type": "markdown",
      "source": [
        "Ques4)<br>\n",
        "Sol)<br>\n",
        " [2xy + (y^3)*cos(x), x^2 + 3*(y^2)*sin(x)]"
      ],
      "metadata": {
        "id": "UqRLEIp1TMQq"
      }
    },
    {
      "cell_type": "code",
      "source": [
        "#Ques5)\n",
        "def function(x):\n",
        "    return (x[0]**2)*x[1] + (x[1]**3)*jnp.sin(x[0])\n",
        "\n",
        "def grad_function(x):\n",
        "    return jnp.array([2*x[0]*x[1] + (x[1]**3)*jnp.cos(x[0]),x[0]**2 + 3*(x[1]**2)*jnp.sin(x[0])])  \n",
        "\n",
        "# JAX's grad operator\n",
        "grad_JAX = grad(function)\n",
        "\n",
        "# three different inputs\n",
        "inputs = jnp.array([[0.2, 0.3], [2.4, 3.6], [4.4, 2.1]])\n",
        "for x in inputs:\n",
        "    print(\"Explicit Gradient Function: \", grad_function(x))\n",
        "    print(\"JAX Gradient Function: \", grad_JAX(x))\n",
        "    print(\"\")"
      ],
      "metadata": {
        "colab": {
          "base_uri": "https://localhost:8080/"
        },
        "id": "pqhrip0dIVeP",
        "outputId": "3b6e3672-1714-4060-9274-1f5205dc8a38"
      },
      "execution_count": null,
      "outputs": [
        {
          "output_type": "stream",
          "name": "stdout",
          "text": [
            "Explicit Gradient Function:  [0.1464618  0.09364072]\n",
            "JAX Gradient Function:  [0.1464618  0.09364072]\n",
            "\n",
            "Explicit Gradient Function:  [-17.123838  32.022003]\n",
            "JAX Gradient Function:  [-17.123838  32.022003]\n",
            "\n",
            "Explicit Gradient Function:  [15.633791   6.7703066]\n",
            "JAX Gradient Function:  [15.633791   6.7703066]\n",
            "\n"
          ]
        }
      ]
    },
    {
      "cell_type": "code",
      "source": [
        "#Ques6)\n",
        "R = CoordSysCartesian('R')\n",
        "f = (R.x**2)*R.y + (R.y**3)*sin(R.x)\n",
        "G = gradient(f,R)\n",
        "print(G)\n",
        "#Ignore the warning "
      ],
      "metadata": {
        "colab": {
          "base_uri": "https://localhost:8080/"
        },
        "id": "fBZLel3piFXd",
        "outputId": "c3b9c1eb-e362-4cc3-d63f-37fd61e597c4"
      },
      "execution_count": 266,
      "outputs": [
        {
          "output_type": "stream",
          "name": "stderr",
          "text": [
            "/usr/local/lib/python3.8/dist-packages/sympy/vector/coordsysrect.py:18: SymPyDeprecationWarning: \n",
            "\n",
            "CoordSysCartesian has been deprecated since SymPy 1.1. Use CoordSys3D\n",
            "instead. See https://github.com/sympy/sympy/issues/12865 for more\n",
            "info.\n",
            "\n",
            "  SymPyDeprecationWarning(\n",
            "/usr/local/lib/python3.8/dist-packages/sympy/vector/operators.py:30: SymPyDeprecationWarning: \n",
            "\n",
            "coord_sys parameter has been deprecated since SymPy 1.1. Use do not\n",
            "use it instead. See https://github.com/sympy/sympy/issues/12884 for\n",
            "more info.\n",
            "\n",
            "  SymPyDeprecationWarning(\n"
          ]
        },
        {
          "output_type": "stream",
          "name": "stdout",
          "text": [
            "(2*R.x*R.y + R.y**3*cos(R.x))*R.i + (R.x**2 + 3*R.y**2*sin(R.x))*R.j\n"
          ]
        }
      ]
    },
    {
      "cell_type": "code",
      "source": [
        "#Ques7)\n",
        "#For real-life data, the following can be generalized in the similar manner\n",
        "Year = [2022,2023,2024,2025]\n",
        "Branch = ['Branch 1','Branch 2']\n",
        "RollNo = range(1,11)\n",
        "#Information = ['Roll Number', 'Name', 'Marks']\n",
        "Subject = ['Math', 'Science', 'English']\n",
        "Record = {}\n",
        "for y in Year:\n",
        "  Record[y]= {}\n",
        "  for b in Branch:\n",
        "    Record[y][b] = {}\n",
        "    for r in RollNo:\n",
        "      Record[y][b][r] = {}\n",
        "      Record[y][b][r]['Roll No.'] = r\n",
        "      Record[y][b][r]['Name'] = random.choices(string.ascii_letters, k=1)[0]\n",
        "      Record[y][b][r]['Marks'] = {}\n",
        "      for s in Subject:\n",
        "        Record[y][b][r]['Marks'] = random.randint(0, 100)\n",
        "\n",
        "print(Record)"
      ],
      "metadata": {
        "colab": {
          "base_uri": "https://localhost:8080/"
        },
        "id": "3rSyglX_pTZV",
        "outputId": "8086fb65-3ad3-4403-cf75-edf95b83ebf6"
      },
      "execution_count": 308,
      "outputs": [
        {
          "output_type": "stream",
          "name": "stdout",
          "text": [
            "{2022: {'Branch 1': {1: {'Roll No.': 1, 'Name': 'c', 'Marks': 31}, 2: {'Roll No.': 2, 'Name': 'e', 'Marks': 74}, 3: {'Roll No.': 3, 'Name': 'q', 'Marks': 20}, 4: {'Roll No.': 4, 'Name': 'd', 'Marks': 79}, 5: {'Roll No.': 5, 'Name': 'o', 'Marks': 4}, 6: {'Roll No.': 6, 'Name': 'V', 'Marks': 40}, 7: {'Roll No.': 7, 'Name': 'l', 'Marks': 78}, 8: {'Roll No.': 8, 'Name': 'Q', 'Marks': 10}, 9: {'Roll No.': 9, 'Name': 'u', 'Marks': 6}, 10: {'Roll No.': 10, 'Name': 'A', 'Marks': 100}}, 'Branch 2': {1: {'Roll No.': 1, 'Name': 'C', 'Marks': 9}, 2: {'Roll No.': 2, 'Name': 'V', 'Marks': 84}, 3: {'Roll No.': 3, 'Name': 's', 'Marks': 27}, 4: {'Roll No.': 4, 'Name': 'q', 'Marks': 49}, 5: {'Roll No.': 5, 'Name': 't', 'Marks': 77}, 6: {'Roll No.': 6, 'Name': 'W', 'Marks': 31}, 7: {'Roll No.': 7, 'Name': 'l', 'Marks': 48}, 8: {'Roll No.': 8, 'Name': 'u', 'Marks': 10}, 9: {'Roll No.': 9, 'Name': 'G', 'Marks': 25}, 10: {'Roll No.': 10, 'Name': 'Z', 'Marks': 79}}}, 2023: {'Branch 1': {1: {'Roll No.': 1, 'Name': 'Z', 'Marks': 32}, 2: {'Roll No.': 2, 'Name': 'D', 'Marks': 8}, 3: {'Roll No.': 3, 'Name': 'C', 'Marks': 54}, 4: {'Roll No.': 4, 'Name': 'N', 'Marks': 56}, 5: {'Roll No.': 5, 'Name': 'u', 'Marks': 63}, 6: {'Roll No.': 6, 'Name': 'v', 'Marks': 80}, 7: {'Roll No.': 7, 'Name': 'E', 'Marks': 88}, 8: {'Roll No.': 8, 'Name': 'w', 'Marks': 93}, 9: {'Roll No.': 9, 'Name': 'Z', 'Marks': 58}, 10: {'Roll No.': 10, 'Name': 'Y', 'Marks': 22}}, 'Branch 2': {1: {'Roll No.': 1, 'Name': 'c', 'Marks': 39}, 2: {'Roll No.': 2, 'Name': 'P', 'Marks': 50}, 3: {'Roll No.': 3, 'Name': 'm', 'Marks': 73}, 4: {'Roll No.': 4, 'Name': 'k', 'Marks': 43}, 5: {'Roll No.': 5, 'Name': 'X', 'Marks': 26}, 6: {'Roll No.': 6, 'Name': 'a', 'Marks': 21}, 7: {'Roll No.': 7, 'Name': 'U', 'Marks': 68}, 8: {'Roll No.': 8, 'Name': 'o', 'Marks': 44}, 9: {'Roll No.': 9, 'Name': 'v', 'Marks': 22}, 10: {'Roll No.': 10, 'Name': 'g', 'Marks': 89}}}, 2024: {'Branch 1': {1: {'Roll No.': 1, 'Name': 'H', 'Marks': 100}, 2: {'Roll No.': 2, 'Name': 'N', 'Marks': 99}, 3: {'Roll No.': 3, 'Name': 'l', 'Marks': 44}, 4: {'Roll No.': 4, 'Name': 'G', 'Marks': 99}, 5: {'Roll No.': 5, 'Name': 'S', 'Marks': 89}, 6: {'Roll No.': 6, 'Name': 'l', 'Marks': 91}, 7: {'Roll No.': 7, 'Name': 'v', 'Marks': 88}, 8: {'Roll No.': 8, 'Name': 'o', 'Marks': 12}, 9: {'Roll No.': 9, 'Name': 'c', 'Marks': 69}, 10: {'Roll No.': 10, 'Name': 'k', 'Marks': 70}}, 'Branch 2': {1: {'Roll No.': 1, 'Name': 't', 'Marks': 83}, 2: {'Roll No.': 2, 'Name': 'u', 'Marks': 12}, 3: {'Roll No.': 3, 'Name': 'V', 'Marks': 53}, 4: {'Roll No.': 4, 'Name': 'h', 'Marks': 10}, 5: {'Roll No.': 5, 'Name': 'm', 'Marks': 19}, 6: {'Roll No.': 6, 'Name': 'G', 'Marks': 100}, 7: {'Roll No.': 7, 'Name': 'R', 'Marks': 85}, 8: {'Roll No.': 8, 'Name': 'N', 'Marks': 71}, 9: {'Roll No.': 9, 'Name': 'y', 'Marks': 83}, 10: {'Roll No.': 10, 'Name': 'z', 'Marks': 77}}}, 2025: {'Branch 1': {1: {'Roll No.': 1, 'Name': 'G', 'Marks': 80}, 2: {'Roll No.': 2, 'Name': 'T', 'Marks': 26}, 3: {'Roll No.': 3, 'Name': 'h', 'Marks': 39}, 4: {'Roll No.': 4, 'Name': 't', 'Marks': 74}, 5: {'Roll No.': 5, 'Name': 'D', 'Marks': 13}, 6: {'Roll No.': 6, 'Name': 'n', 'Marks': 10}, 7: {'Roll No.': 7, 'Name': 'F', 'Marks': 81}, 8: {'Roll No.': 8, 'Name': 'A', 'Marks': 89}, 9: {'Roll No.': 9, 'Name': 'O', 'Marks': 84}, 10: {'Roll No.': 10, 'Name': 'a', 'Marks': 45}}, 'Branch 2': {1: {'Roll No.': 1, 'Name': 'J', 'Marks': 50}, 2: {'Roll No.': 2, 'Name': 'c', 'Marks': 32}, 3: {'Roll No.': 3, 'Name': 'e', 'Marks': 37}, 4: {'Roll No.': 4, 'Name': 'Y', 'Marks': 57}, 5: {'Roll No.': 5, 'Name': 'c', 'Marks': 43}, 6: {'Roll No.': 6, 'Name': 'X', 'Marks': 38}, 7: {'Roll No.': 7, 'Name': 'H', 'Marks': 33}, 8: {'Roll No.': 8, 'Name': 'u', 'Marks': 73}, 9: {'Roll No.': 9, 'Name': 'e', 'Marks': 55}, 10: {'Roll No.': 10, 'Name': 'I', 'Marks': 26}}}}\n"
          ]
        }
      ]
    },
    {
      "cell_type": "code",
      "source": [
        "#Ques8)\n",
        "#The following code is written to structure information of a student.\n",
        "#Similarly, the information of every student can be structured by initiating separate clas objects for each student.\n",
        "class Marks():\n",
        "    def __init__(self, maths_grade, dsa_grade, coa_grade):\n",
        "        self.maths_grade = maths_grade \n",
        "        self.dsa_grade = dsa_grade\n",
        "        self.coa_grade = coa_grade\n",
        "\n",
        "# subclass\t\t\n",
        "class Student(Marks):\n",
        "    def __init__(self, year, branch, roll_no, name, maths_grade, dsa_grade, coa_grade):\n",
        "        self.year = year\n",
        "        self.branch = branch\n",
        "        self.roll_no = roll_no\n",
        "        self.name  = name\n",
        "        Marks.__init__(self, maths_grade, dsa_grade, coa_grade)\n",
        "\n",
        "s1 = Student(year = 2022, branch = 'CSE', roll_no = 1, name = 'ABC',  maths_grade = 50, dsa_grade = 75, coa_grade = 40)\t\t"
      ],
      "metadata": {
        "id": "iedNPJpw9llt"
      },
      "execution_count": 309,
      "outputs": []
    },
    {
      "cell_type": "code",
      "source": [
        "#Ques9)\n",
        "x = np.linspace(0.5,100,int((100-0.5)/0.5)+1, dtype = float)"
      ],
      "metadata": {
        "id": "f-Yi8vRW1sds"
      },
      "execution_count": 310,
      "outputs": []
    },
    {
      "cell_type": "code",
      "source": [
        "y = x\n",
        "plt.plot(x,y)\n",
        "plt.xlabel(\"X\")\n",
        "plt.ylabel(\"Y = X\")"
      ],
      "metadata": {
        "colab": {
          "base_uri": "https://localhost:8080/",
          "height": 296
        },
        "id": "48gVTH863SYf",
        "outputId": "9387c13d-5091-4c32-d567-4ead709c4edd"
      },
      "execution_count": 311,
      "outputs": [
        {
          "output_type": "execute_result",
          "data": {
            "text/plain": [
              "Text(0, 0.5, 'Y = X')"
            ]
          },
          "metadata": {},
          "execution_count": 311
        },
        {
          "output_type": "display_data",
          "data": {
            "text/plain": [
              "<Figure size 432x288 with 1 Axes>"
            ],
            "image/png": "[encoded data removed]"
          },
          "metadata": {
            "needs_background": "light"
          }
        }
      ]
    },
    {
      "cell_type": "code",
      "source": [
        "y = x**2\n",
        "plt.plot(x,y)\n",
        "plt.xlabel(\"X\")\n",
        "plt.ylabel(\"Y = X**2\")"
      ],
      "metadata": {
        "colab": {
          "base_uri": "https://localhost:8080/",
          "height": 296
        },
        "id": "ApJrQHLl3zRI",
        "outputId": "4075b842-664b-4620-f7a6-322c2b6921e7"
      },
      "execution_count": 312,
      "outputs": [
        {
          "output_type": "execute_result",
          "data": {
            "text/plain": [
              "Text(0, 0.5, 'Y = X**2')"
            ]
          },
          "metadata": {},
          "execution_count": 312
        },
        {
          "output_type": "display_data",
          "data": {
            "text/plain": [
              "<Figure size 432x288 with 1 Axes>"
            ],
            "image/png": "[encoded data removed]"
          },
          "metadata": {
            "needs_background": "light"
          }
        }
      ]
    },
    {
      "cell_type": "code",
      "source": [
        "y = (x**3)/100\n",
        "plt.plot(x,y)\n",
        "plt.xlabel(\"X\")\n",
        "plt.ylabel(\"Y = X**3 / 100\")"
      ],
      "metadata": {
        "colab": {
          "base_uri": "https://localhost:8080/",
          "height": 296
        },
        "id": "SMWJU5WU337e",
        "outputId": "567d724b-7314-4d55-d833-321e099a7e1b"
      },
      "execution_count": 313,
      "outputs": [
        {
          "output_type": "execute_result",
          "data": {
            "text/plain": [
              "Text(0, 0.5, 'Y = X**3 / 100')"
            ]
          },
          "metadata": {},
          "execution_count": 313
        },
        {
          "output_type": "display_data",
          "data": {
            "text/plain": [
              "<Figure size 432x288 with 1 Axes>"
            ],
            "image/png": "[encoded data removed]"
          },
          "metadata": {
            "needs_background": "light"
          }
        }
      ]
    },
    {
      "cell_type": "code",
      "source": [
        "y = np.sin(x)\n",
        "plt.plot(x,y)\n",
        "plt.xlabel(\"X\")\n",
        "plt.ylabel(\"Y = Sin(x)\")"
      ],
      "metadata": {
        "colab": {
          "base_uri": "https://localhost:8080/",
          "height": 296
        },
        "id": "PtWtGZNZ4LvZ",
        "outputId": "5e813176-a784-452d-955d-1bb831eab1ba"
      },
      "execution_count": 314,
      "outputs": [
        {
          "output_type": "execute_result",
          "data": {
            "text/plain": [
              "Text(0, 0.5, 'Y = Sin(x)')"
            ]
          },
          "metadata": {},
          "execution_count": 314
        },
        {
          "output_type": "display_data",
          "data": {
            "text/plain": [
              "<Figure size 432x288 with 1 Axes>"
            ],
            "image/png": "[encoded data removed]"
          },
          "metadata": {
            "needs_background": "light"
          }
        }
      ]
    },
    {
      "cell_type": "code",
      "source": [
        "y = np.sin(x)/x\n",
        "plt.plot(x,y)\n",
        "plt.xlabel(\"X\")\n",
        "plt.ylabel(\"Y = Sin(x) / x\")"
      ],
      "metadata": {
        "colab": {
          "base_uri": "https://localhost:8080/",
          "height": 297
        },
        "id": "iFlGT4fOPihe",
        "outputId": "56dae0ef-b60c-4cc4-a25f-aa7f95666a4e"
      },
      "execution_count": 315,
      "outputs": [
        {
          "output_type": "execute_result",
          "data": {
            "text/plain": [
              "Text(0, 0.5, 'Y = Sin(x) / x')"
            ]
          },
          "metadata": {},
          "execution_count": 315
        },
        {
          "output_type": "display_data",
          "data": {
            "text/plain": [
              "<Figure size 432x288 with 1 Axes>"
            ],
            "image/png": "[encoded data removed]"
          },
          "metadata": {
            "needs_background": "light"
          }
        }
      ]
    },
    {
      "cell_type": "code",
      "source": [
        "y = np.log(x)\n",
        "plt.plot(x,y)\n",
        "plt.xlabel(\"X\")\n",
        "plt.ylabel(\"Y = Log(x)\")"
      ],
      "metadata": {
        "colab": {
          "base_uri": "https://localhost:8080/",
          "height": 296
        },
        "id": "zFnQVPbz4ZGJ",
        "outputId": "718d5e3e-dd6f-41a2-9767-80f8185340b1"
      },
      "execution_count": 316,
      "outputs": [
        {
          "output_type": "execute_result",
          "data": {
            "text/plain": [
              "Text(0, 0.5, 'Y = Log(x)')"
            ]
          },
          "metadata": {},
          "execution_count": 316
        },
        {
          "output_type": "display_data",
          "data": {
            "text/plain": [
              "<Figure size 432x288 with 1 Axes>"
            ],
            "image/png": "[encoded data removed]"
          },
          "metadata": {
            "needs_background": "light"
          }
        }
      ]
    },
    {
      "cell_type": "code",
      "source": [
        "y = np.exp(x)\n",
        "plt.plot(x,y)\n",
        "plt.xlabel(\"X\")\n",
        "plt.ylabel(\"Y = Exp(x)\")"
      ],
      "metadata": {
        "colab": {
          "base_uri": "https://localhost:8080/",
          "height": 307
        },
        "id": "A2C9FYFP4e0C",
        "outputId": "0fbd1ceb-756c-4069-9876-37a1aa41c6e5"
      },
      "execution_count": 317,
      "outputs": [
        {
          "output_type": "execute_result",
          "data": {
            "text/plain": [
              "Text(0, 0.5, 'Y = Exp(x)')"
            ]
          },
          "metadata": {},
          "execution_count": 317
        },
        {
          "output_type": "display_data",
          "data": {
            "text/plain": [
              "<Figure size 432x288 with 1 Axes>"
            ],
            "image/png": "[encoded data removed]"
          },
          "metadata": {
            "needs_background": "light"
          }
        }
      ]
    },
    {
      "cell_type": "code",
      "source": [
        "#Ques10)\n",
        "samples = np.random.uniform(low=1, high=2, size=(20,5))"
      ],
      "metadata": {
        "id": "2YujYP3u4liK"
      },
      "execution_count": 318,
      "outputs": []
    },
    {
      "cell_type": "code",
      "source": [
        "df = pd.DataFrame(data=samples, columns=['a','b','c','d', 'e'])\n",
        "df.head()"
      ],
      "metadata": {
        "id": "TEo9dGwQ8g-V",
        "colab": {
          "base_uri": "https://localhost:8080/",
          "height": 206
        },
        "outputId": "35e0999c-6213-4051-852c-ce1cbcc0f761"
      },
      "execution_count": 319,
      "outputs": [
        {
          "output_type": "execute_result",
          "data": {
            "text/plain": [
              "          a         b         c         d         e\n",
              "0  1.365342  1.814905  1.044398  1.551268  1.214716\n",
              "1  1.802930  1.094849  1.305822  1.449233  1.295886\n",
              "2  1.226641  1.081088  1.624265  1.619506  1.480489\n",
              "3  1.526291  1.817473  1.342647  1.691307  1.229423\n",
              "4  1.420083  1.682127  1.847196  1.464260  1.977364"
            ],
            "text/html": [
              "\n",
              "  <div id=\"df-966c9771-bc72-4da8-8792-35f287dde38f\">\n",
              "    <div class=\"colab-df-container\">\n",
              "      <div>\n",
              "<style scoped>\n",
              "    .dataframe tbody tr th:only-of-type {\n",
              "        vertical-align: middle;\n",
              "    }\n",
              "\n",
              "    .dataframe tbody tr th {\n",
              "        vertical-align: top;\n",
              "    }\n",
              "\n",
              "    .dataframe thead th {\n",
              "        text-align: right;\n",
              "    }\n",
              "</style>\n",
              "<table border=\"1\" class=\"dataframe\">\n",
              "  <thead>\n",
              "    <tr style=\"text-align: right;\">\n",
              "      <th></th>\n",
              "      <th>a</th>\n",
              "      <th>b</th>\n",
              "      <th>c</th>\n",
              "      <th>d</th>\n",
              "      <th>e</th>\n",
              "    </tr>\n",
              "  </thead>\n",
              "  <tbody>\n",
              "    <tr>\n",
              "      <th>0</th>\n",
              "      <td>1.365342</td>\n",
              "      <td>1.814905</td>\n",
              "      <td>1.044398</td>\n",
              "      <td>1.551268</td>\n",
              "      <td>1.214716</td>\n",
              "    </tr>\n",
              "    <tr>\n",
              "      <th>1</th>\n",
              "      <td>1.802930</td>\n",
              "      <td>1.094849</td>\n",
              "      <td>1.305822</td>\n",
              "      <td>1.449233</td>\n",
              "      <td>1.295886</td>\n",
              "    </tr>\n",
              "    <tr>\n",
              "      <th>2</th>\n",
              "      <td>1.226641</td>\n",
              "      <td>1.081088</td>\n",
              "      <td>1.624265</td>\n",
              "      <td>1.619506</td>\n",
              "      <td>1.480489</td>\n",
              "    </tr>\n",
              "    <tr>\n",
              "      <th>3</th>\n",
              "      <td>1.526291</td>\n",
              "      <td>1.817473</td>\n",
              "      <td>1.342647</td>\n",
              "      <td>1.691307</td>\n",
              "      <td>1.229423</td>\n",
              "    </tr>\n",
              "    <tr>\n",
              "      <th>4</th>\n",
              "      <td>1.420083</td>\n",
              "      <td>1.682127</td>\n",
              "      <td>1.847196</td>\n",
              "      <td>1.464260</td>\n",
              "      <td>1.977364</td>\n",
              "    </tr>\n",
              "  </tbody>\n",
              "</table>\n",
              "</div>\n",
              "      <button class=\"colab-df-convert\" onclick=\"convertToInteractive('df-966c9771-bc72-4da8-8792-35f287dde38f')\"\n",
              "              title=\"Convert this dataframe to an interactive table.\"\n",
              "              style=\"display:none;\">\n",
              "        \n",
              "  <svg xmlns=\"http://www.w3.org/2000/svg\" height=\"24px\"viewBox=\"0 0 24 24\"\n",
              "       width=\"24px\">\n",
              "    <path d=\"M0 0h24v24H0V0z\" fill=\"none\"/>\n",
              "    <path d=\"M18.56 5.44l.94 2.06.94-2.06 2.06-.94-2.06-.94-.94-2.06-.94 2.06-2.06.94zm-11 1L8.5 8.5l.94-2.06 2.06-.94-2.06-.94L8.5 2.5l-.94 2.06-2.06.94zm10 10l.94 2.06.94-2.06 2.06-.94-2.06-.94-.94-2.06-.94 2.06-2.06.94z\"/><path d=\"M17.41 7.96l-1.37-1.37c-.4-.4-.92-.59-1.43-.59-.52 0-1.04.2-1.43.59L10.3 9.45l-7.72 7.72c-.78.78-.78 2.05 0 2.83L4 21.41c.39.39.9.59 1.41.59.51 0 1.02-.2 1.41-.59l7.78-7.78 2.81-2.81c.8-.78.8-2.07 0-2.86zM5.41 20L4 18.59l7.72-7.72 1.47 1.35L5.41 20z\"/>\n",
              "  </svg>\n",
              "      </button>\n",
              "      \n",
              "  <style>\n",
              "    .colab-df-container {\n",
              "      display:flex;\n",
              "      flex-wrap:wrap;\n",
              "      gap: 12px;\n",
              "    }\n",
              "\n",
              "    .colab-df-convert {\n",
              "      background-color: #E8F0FE;\n",
              "      border: none;\n",
              "      border-radius: 50%;\n",
              "      cursor: pointer;\n",
              "      display: none;\n",
              "      fill: #1967D2;\n",
              "      height: 32px;\n",
              "      padding: 0 0 0 0;\n",
              "      width: 32px;\n",
              "    }\n",
              "\n",
              "    .colab-df-convert:hover {\n",
              "      background-color: #E2EBFA;\n",
              "      box-shadow: 0px 1px 2px rgba(60, 64, 67, 0.3), 0px 1px 3px 1px rgba(60, 64, 67, 0.15);\n",
              "      fill: #174EA6;\n",
              "    }\n",
              "\n",
              "    [theme=dark] .colab-df-convert {\n",
              "      background-color: #3B4455;\n",
              "      fill: #D2E3FC;\n",
              "    }\n",
              "\n",
              "    [theme=dark] .colab-df-convert:hover {\n",
              "      background-color: #434B5C;\n",
              "      box-shadow: 0px 1px 3px 1px rgba(0, 0, 0, 0.15);\n",
              "      filter: drop-shadow(0px 1px 2px rgba(0, 0, 0, 0.3));\n",
              "      fill: #FFFFFF;\n",
              "    }\n",
              "  </style>\n",
              "\n",
              "      <script>\n",
              "        const buttonEl =\n",
              "          document.querySelector('#df-966c9771-bc72-4da8-8792-35f287dde38f button.colab-df-convert');\n",
              "        buttonEl.style.display =\n",
              "          google.colab.kernel.accessAllowed ? 'block' : 'none';\n",
              "\n",
              "        async function convertToInteractive(key) {\n",
              "          const element = document.querySelector('#df-966c9771-bc72-4da8-8792-35f287dde38f');\n",
              "          const dataTable =\n",
              "            await google.colab.kernel.invokeFunction('convertToInteractive',\n",
              "                                                     [key], {});\n",
              "          if (!dataTable) return;\n",
              "\n",
              "          const docLinkHtml = 'Like what you see? Visit the ' +\n",
              "            '<a target=\"_blank\" href=https://colab.research.google.com/notebooks/data_table.ipynb>data table notebook</a>'\n",
              "            + ' to learn more about interactive tables.';\n",
              "          element.innerHTML = '';\n",
              "          dataTable['output_type'] = 'display_data';\n",
              "          await google.colab.output.renderOutput(dataTable, element);\n",
              "          const docLink = document.createElement('div');\n",
              "          docLink.innerHTML = docLinkHtml;\n",
              "          element.appendChild(docLink);\n",
              "        }\n",
              "      </script>\n",
              "    </div>\n",
              "  </div>\n",
              "  "
            ]
          },
          "metadata": {},
          "execution_count": 319
        }
      ]
    },
    {
      "cell_type": "code",
      "source": [
        "std_cols = []\n",
        "for col in df.columns:\n",
        "  std_cols.append(df[col].std())\n",
        "std_cols = np.array(std_cols)\n",
        "df.columns[np.where(std_cols==std_cols.max())[0][0]] # column having maximum standard deviation"
      ],
      "metadata": {
        "colab": {
          "base_uri": "https://localhost:8080/",
          "height": 35
        },
        "id": "skZF9y-98jDl",
        "outputId": "038e2832-d695-41fb-83bb-b7037bb4ce61"
      },
      "execution_count": 320,
      "outputs": [
        {
          "output_type": "execute_result",
          "data": {
            "text/plain": [
              "'b'"
            ],
            "application/vnd.google.colaboratory.intrinsic+json": {
              "type": "string"
            }
          },
          "metadata": {},
          "execution_count": 320
        }
      ]
    },
    {
      "cell_type": "code",
      "source": [
        "mean_rows = []\n",
        "for row in range(df.shape[0]):\n",
        "  mean_rows.append(df.iloc[row].mean())\n",
        "mean_rows = np.array(mean_rows)\n",
        "np.where(mean_rows==mean_rows.min())[0][0] # row having minimum standard deviation"
      ],
      "metadata": {
        "colab": {
          "base_uri": "https://localhost:8080/"
        },
        "id": "Gy04RZmb9GJE",
        "outputId": "06fdc465-6591-4cb4-8c7d-405398870e3f"
      },
      "execution_count": 321,
      "outputs": [
        {
          "output_type": "execute_result",
          "data": {
            "text/plain": [
              "13"
            ]
          },
          "metadata": {},
          "execution_count": 321
        }
      ]
    },
    {
      "cell_type": "code",
      "source": [
        "#Ques11)\n",
        "df['f'] = df.sum(axis='columns')\n",
        "df.head()"
      ],
      "metadata": {
        "id": "oYa_t57G-X5b",
        "colab": {
          "base_uri": "https://localhost:8080/",
          "height": 206
        },
        "outputId": "162b5e4c-e38e-44a5-926d-041ff21b1874"
      },
      "execution_count": 322,
      "outputs": [
        {
          "output_type": "execute_result",
          "data": {
            "text/plain": [
              "          a         b         c         d         e         f\n",
              "0  1.365342  1.814905  1.044398  1.551268  1.214716  6.990628\n",
              "1  1.802930  1.094849  1.305822  1.449233  1.295886  6.948720\n",
              "2  1.226641  1.081088  1.624265  1.619506  1.480489  7.031989\n",
              "3  1.526291  1.817473  1.342647  1.691307  1.229423  7.607140\n",
              "4  1.420083  1.682127  1.847196  1.464260  1.977364  8.391029"
            ],
            "text/html": [
              "\n",
              "  <div id=\"df-bdc07f0d-51e1-4a4b-aef9-df7915e73218\">\n",
              "    <div class=\"colab-df-container\">\n",
              "      <div>\n",
              "<style scoped>\n",
              "    .dataframe tbody tr th:only-of-type {\n",
              "        vertical-align: middle;\n",
              "    }\n",
              "\n",
              "    .dataframe tbody tr th {\n",
              "        vertical-align: top;\n",
              "    }\n",
              "\n",
              "    .dataframe thead th {\n",
              "        text-align: right;\n",
              "    }\n",
              "</style>\n",
              "<table border=\"1\" class=\"dataframe\">\n",
              "  <thead>\n",
              "    <tr style=\"text-align: right;\">\n",
              "      <th></th>\n",
              "      <th>a</th>\n",
              "      <th>b</th>\n",
              "      <th>c</th>\n",
              "      <th>d</th>\n",
              "      <th>e</th>\n",
              "      <th>f</th>\n",
              "    </tr>\n",
              "  </thead>\n",
              "  <tbody>\n",
              "    <tr>\n",
              "      <th>0</th>\n",
              "      <td>1.365342</td>\n",
              "      <td>1.814905</td>\n",
              "      <td>1.044398</td>\n",
              "      <td>1.551268</td>\n",
              "      <td>1.214716</td>\n",
              "      <td>6.990628</td>\n",
              "    </tr>\n",
              "    <tr>\n",
              "      <th>1</th>\n",
              "      <td>1.802930</td>\n",
              "      <td>1.094849</td>\n",
              "      <td>1.305822</td>\n",
              "      <td>1.449233</td>\n",
              "      <td>1.295886</td>\n",
              "      <td>6.948720</td>\n",
              "    </tr>\n",
              "    <tr>\n",
              "      <th>2</th>\n",
              "      <td>1.226641</td>\n",
              "      <td>1.081088</td>\n",
              "      <td>1.624265</td>\n",
              "      <td>1.619506</td>\n",
              "      <td>1.480489</td>\n",
              "      <td>7.031989</td>\n",
              "    </tr>\n",
              "    <tr>\n",
              "      <th>3</th>\n",
              "      <td>1.526291</td>\n",
              "      <td>1.817473</td>\n",
              "      <td>1.342647</td>\n",
              "      <td>1.691307</td>\n",
              "      <td>1.229423</td>\n",
              "      <td>7.607140</td>\n",
              "    </tr>\n",
              "    <tr>\n",
              "      <th>4</th>\n",
              "      <td>1.420083</td>\n",
              "      <td>1.682127</td>\n",
              "      <td>1.847196</td>\n",
              "      <td>1.464260</td>\n",
              "      <td>1.977364</td>\n",
              "      <td>8.391029</td>\n",
              "    </tr>\n",
              "  </tbody>\n",
              "</table>\n",
              "</div>\n",
              "      <button class=\"colab-df-convert\" onclick=\"convertToInteractive('df-bdc07f0d-51e1-4a4b-aef9-df7915e73218')\"\n",
              "              title=\"Convert this dataframe to an interactive table.\"\n",
              "              style=\"display:none;\">\n",
              "        \n",
              "  <svg xmlns=\"http://www.w3.org/2000/svg\" height=\"24px\"viewBox=\"0 0 24 24\"\n",
              "       width=\"24px\">\n",
              "    <path d=\"M0 0h24v24H0V0z\" fill=\"none\"/>\n",
              "    <path d=\"M18.56 5.44l.94 2.06.94-2.06 2.06-.94-2.06-.94-.94-2.06-.94 2.06-2.06.94zm-11 1L8.5 8.5l.94-2.06 2.06-.94-2.06-.94L8.5 2.5l-.94 2.06-2.06.94zm10 10l.94 2.06.94-2.06 2.06-.94-2.06-.94-.94-2.06-.94 2.06-2.06.94z\"/><path d=\"M17.41 7.96l-1.37-1.37c-.4-.4-.92-.59-1.43-.59-.52 0-1.04.2-1.43.59L10.3 9.45l-7.72 7.72c-.78.78-.78 2.05 0 2.83L4 21.41c.39.39.9.59 1.41.59.51 0 1.02-.2 1.41-.59l7.78-7.78 2.81-2.81c.8-.78.8-2.07 0-2.86zM5.41 20L4 18.59l7.72-7.72 1.47 1.35L5.41 20z\"/>\n",
              "  </svg>\n",
              "      </button>\n",
              "      \n",
              "  <style>\n",
              "    .colab-df-container {\n",
              "      display:flex;\n",
              "      flex-wrap:wrap;\n",
              "      gap: 12px;\n",
              "    }\n",
              "\n",
              "    .colab-df-convert {\n",
              "      background-color: #E8F0FE;\n",
              "      border: none;\n",
              "      border-radius: 50%;\n",
              "      cursor: pointer;\n",
              "      display: none;\n",
              "      fill: #1967D2;\n",
              "      height: 32px;\n",
              "      padding: 0 0 0 0;\n",
              "      width: 32px;\n",
              "    }\n",
              "\n",
              "    .colab-df-convert:hover {\n",
              "      background-color: #E2EBFA;\n",
              "      box-shadow: 0px 1px 2px rgba(60, 64, 67, 0.3), 0px 1px 3px 1px rgba(60, 64, 67, 0.15);\n",
              "      fill: #174EA6;\n",
              "    }\n",
              "\n",
              "    [theme=dark] .colab-df-convert {\n",
              "      background-color: #3B4455;\n",
              "      fill: #D2E3FC;\n",
              "    }\n",
              "\n",
              "    [theme=dark] .colab-df-convert:hover {\n",
              "      background-color: #434B5C;\n",
              "      box-shadow: 0px 1px 3px 1px rgba(0, 0, 0, 0.15);\n",
              "      filter: drop-shadow(0px 1px 2px rgba(0, 0, 0, 0.3));\n",
              "      fill: #FFFFFF;\n",
              "    }\n",
              "  </style>\n",
              "\n",
              "      <script>\n",
              "        const buttonEl =\n",
              "          document.querySelector('#df-bdc07f0d-51e1-4a4b-aef9-df7915e73218 button.colab-df-convert');\n",
              "        buttonEl.style.display =\n",
              "          google.colab.kernel.accessAllowed ? 'block' : 'none';\n",
              "\n",
              "        async function convertToInteractive(key) {\n",
              "          const element = document.querySelector('#df-bdc07f0d-51e1-4a4b-aef9-df7915e73218');\n",
              "          const dataTable =\n",
              "            await google.colab.kernel.invokeFunction('convertToInteractive',\n",
              "                                                     [key], {});\n",
              "          if (!dataTable) return;\n",
              "\n",
              "          const docLinkHtml = 'Like what you see? Visit the ' +\n",
              "            '<a target=\"_blank\" href=https://colab.research.google.com/notebooks/data_table.ipynb>data table notebook</a>'\n",
              "            + ' to learn more about interactive tables.';\n",
              "          element.innerHTML = '';\n",
              "          dataTable['output_type'] = 'display_data';\n",
              "          await google.colab.output.renderOutput(dataTable, element);\n",
              "          const docLink = document.createElement('div');\n",
              "          docLink.innerHTML = docLinkHtml;\n",
              "          element.appendChild(docLink);\n",
              "        }\n",
              "      </script>\n",
              "    </div>\n",
              "  </div>\n",
              "  "
            ]
          },
          "metadata": {},
          "execution_count": 322
        }
      ]
    },
    {
      "cell_type": "code",
      "source": [
        "def value(f):\n",
        "  if f < 8:\n",
        "    return 'LT8'\n",
        "  else:\n",
        "    return 'GT8'\n",
        "df['g'] = df['f'].apply(value)\n",
        "df.head()"
      ],
      "metadata": {
        "id": "zHQSgIhmOrw6",
        "colab": {
          "base_uri": "https://localhost:8080/",
          "height": 206
        },
        "outputId": "41d2631f-2892-4a4a-e4c0-2d11d22b606b"
      },
      "execution_count": 323,
      "outputs": [
        {
          "output_type": "execute_result",
          "data": {
            "text/plain": [
              "          a         b         c         d         e         f    g\n",
              "0  1.365342  1.814905  1.044398  1.551268  1.214716  6.990628  LT8\n",
              "1  1.802930  1.094849  1.305822  1.449233  1.295886  6.948720  LT8\n",
              "2  1.226641  1.081088  1.624265  1.619506  1.480489  7.031989  LT8\n",
              "3  1.526291  1.817473  1.342647  1.691307  1.229423  7.607140  LT8\n",
              "4  1.420083  1.682127  1.847196  1.464260  1.977364  8.391029  GT8"
            ],
            "text/html": [
              "\n",
              "  <div id=\"df-ccaa1d70-4c1b-418a-9e63-43ff38025bab\">\n",
              "    <div class=\"colab-df-container\">\n",
              "      <div>\n",
              "<style scoped>\n",
              "    .dataframe tbody tr th:only-of-type {\n",
              "        vertical-align: middle;\n",
              "    }\n",
              "\n",
              "    .dataframe tbody tr th {\n",
              "        vertical-align: top;\n",
              "    }\n",
              "\n",
              "    .dataframe thead th {\n",
              "        text-align: right;\n",
              "    }\n",
              "</style>\n",
              "<table border=\"1\" class=\"dataframe\">\n",
              "  <thead>\n",
              "    <tr style=\"text-align: right;\">\n",
              "      <th></th>\n",
              "      <th>a</th>\n",
              "      <th>b</th>\n",
              "      <th>c</th>\n",
              "      <th>d</th>\n",
              "      <th>e</th>\n",
              "      <th>f</th>\n",
              "      <th>g</th>\n",
              "    </tr>\n",
              "  </thead>\n",
              "  <tbody>\n",
              "    <tr>\n",
              "      <th>0</th>\n",
              "      <td>1.365342</td>\n",
              "      <td>1.814905</td>\n",
              "      <td>1.044398</td>\n",
              "      <td>1.551268</td>\n",
              "      <td>1.214716</td>\n",
              "      <td>6.990628</td>\n",
              "      <td>LT8</td>\n",
              "    </tr>\n",
              "    <tr>\n",
              "      <th>1</th>\n",
              "      <td>1.802930</td>\n",
              "      <td>1.094849</td>\n",
              "      <td>1.305822</td>\n",
              "      <td>1.449233</td>\n",
              "      <td>1.295886</td>\n",
              "      <td>6.948720</td>\n",
              "      <td>LT8</td>\n",
              "    </tr>\n",
              "    <tr>\n",
              "      <th>2</th>\n",
              "      <td>1.226641</td>\n",
              "      <td>1.081088</td>\n",
              "      <td>1.624265</td>\n",
              "      <td>1.619506</td>\n",
              "      <td>1.480489</td>\n",
              "      <td>7.031989</td>\n",
              "      <td>LT8</td>\n",
              "    </tr>\n",
              "    <tr>\n",
              "      <th>3</th>\n",
              "      <td>1.526291</td>\n",
              "      <td>1.817473</td>\n",
              "      <td>1.342647</td>\n",
              "      <td>1.691307</td>\n",
              "      <td>1.229423</td>\n",
              "      <td>7.607140</td>\n",
              "      <td>LT8</td>\n",
              "    </tr>\n",
              "    <tr>\n",
              "      <th>4</th>\n",
              "      <td>1.420083</td>\n",
              "      <td>1.682127</td>\n",
              "      <td>1.847196</td>\n",
              "      <td>1.464260</td>\n",
              "      <td>1.977364</td>\n",
              "      <td>8.391029</td>\n",
              "      <td>GT8</td>\n",
              "    </tr>\n",
              "  </tbody>\n",
              "</table>\n",
              "</div>\n",
              "      <button class=\"colab-df-convert\" onclick=\"convertToInteractive('df-ccaa1d70-4c1b-418a-9e63-43ff38025bab')\"\n",
              "              title=\"Convert this dataframe to an interactive table.\"\n",
              "              style=\"display:none;\">\n",
              "        \n",
              "  <svg xmlns=\"http://www.w3.org/2000/svg\" height=\"24px\"viewBox=\"0 0 24 24\"\n",
              "       width=\"24px\">\n",
              "    <path d=\"M0 0h24v24H0V0z\" fill=\"none\"/>\n",
              "    <path d=\"M18.56 5.44l.94 2.06.94-2.06 2.06-.94-2.06-.94-.94-2.06-.94 2.06-2.06.94zm-11 1L8.5 8.5l.94-2.06 2.06-.94-2.06-.94L8.5 2.5l-.94 2.06-2.06.94zm10 10l.94 2.06.94-2.06 2.06-.94-2.06-.94-.94-2.06-.94 2.06-2.06.94z\"/><path d=\"M17.41 7.96l-1.37-1.37c-.4-.4-.92-.59-1.43-.59-.52 0-1.04.2-1.43.59L10.3 9.45l-7.72 7.72c-.78.78-.78 2.05 0 2.83L4 21.41c.39.39.9.59 1.41.59.51 0 1.02-.2 1.41-.59l7.78-7.78 2.81-2.81c.8-.78.8-2.07 0-2.86zM5.41 20L4 18.59l7.72-7.72 1.47 1.35L5.41 20z\"/>\n",
              "  </svg>\n",
              "      </button>\n",
              "      \n",
              "  <style>\n",
              "    .colab-df-container {\n",
              "      display:flex;\n",
              "      flex-wrap:wrap;\n",
              "      gap: 12px;\n",
              "    }\n",
              "\n",
              "    .colab-df-convert {\n",
              "      background-color: #E8F0FE;\n",
              "      border: none;\n",
              "      border-radius: 50%;\n",
              "      cursor: pointer;\n",
              "      display: none;\n",
              "      fill: #1967D2;\n",
              "      height: 32px;\n",
              "      padding: 0 0 0 0;\n",
              "      width: 32px;\n",
              "    }\n",
              "\n",
              "    .colab-df-convert:hover {\n",
              "      background-color: #E2EBFA;\n",
              "      box-shadow: 0px 1px 2px rgba(60, 64, 67, 0.3), 0px 1px 3px 1px rgba(60, 64, 67, 0.15);\n",
              "      fill: #174EA6;\n",
              "    }\n",
              "\n",
              "    [theme=dark] .colab-df-convert {\n",
              "      background-color: #3B4455;\n",
              "      fill: #D2E3FC;\n",
              "    }\n",
              "\n",
              "    [theme=dark] .colab-df-convert:hover {\n",
              "      background-color: #434B5C;\n",
              "      box-shadow: 0px 1px 3px 1px rgba(0, 0, 0, 0.15);\n",
              "      filter: drop-shadow(0px 1px 2px rgba(0, 0, 0, 0.3));\n",
              "      fill: #FFFFFF;\n",
              "    }\n",
              "  </style>\n",
              "\n",
              "      <script>\n",
              "        const buttonEl =\n",
              "          document.querySelector('#df-ccaa1d70-4c1b-418a-9e63-43ff38025bab button.colab-df-convert');\n",
              "        buttonEl.style.display =\n",
              "          google.colab.kernel.accessAllowed ? 'block' : 'none';\n",
              "\n",
              "        async function convertToInteractive(key) {\n",
              "          const element = document.querySelector('#df-ccaa1d70-4c1b-418a-9e63-43ff38025bab');\n",
              "          const dataTable =\n",
              "            await google.colab.kernel.invokeFunction('convertToInteractive',\n",
              "                                                     [key], {});\n",
              "          if (!dataTable) return;\n",
              "\n",
              "          const docLinkHtml = 'Like what you see? Visit the ' +\n",
              "            '<a target=\"_blank\" href=https://colab.research.google.com/notebooks/data_table.ipynb>data table notebook</a>'\n",
              "            + ' to learn more about interactive tables.';\n",
              "          element.innerHTML = '';\n",
              "          dataTable['output_type'] = 'display_data';\n",
              "          await google.colab.output.renderOutput(dataTable, element);\n",
              "          const docLink = document.createElement('div');\n",
              "          docLink.innerHTML = docLinkHtml;\n",
              "          element.appendChild(docLink);\n",
              "        }\n",
              "      </script>\n",
              "    </div>\n",
              "  </div>\n",
              "  "
            ]
          },
          "metadata": {},
          "execution_count": 323
        }
      ]
    },
    {
      "cell_type": "code",
      "source": [
        "df.loc[df['g']=='LT8']['f'].std() # LT8 rows standard deviation for column f"
      ],
      "metadata": {
        "colab": {
          "base_uri": "https://localhost:8080/"
        },
        "id": "B-ACiyXUOxOD",
        "outputId": "d8c00168-381a-4c7b-adce-60be82eb7beb"
      },
      "execution_count": 324,
      "outputs": [
        {
          "output_type": "execute_result",
          "data": {
            "text/plain": [
              "0.35442422167222565"
            ]
          },
          "metadata": {},
          "execution_count": 324
        }
      ]
    },
    {
      "cell_type": "code",
      "source": [
        "df.loc[df['g']=='GT8']['f'].std() # GT8 rows standard deviation for column f"
      ],
      "metadata": {
        "colab": {
          "base_uri": "https://localhost:8080/"
        },
        "id": "K6GrKYsuRjnx",
        "outputId": "52856c91-4bfa-4925-9b1c-da624000b39c"
      },
      "execution_count": 325,
      "outputs": [
        {
          "output_type": "execute_result",
          "data": {
            "text/plain": [
              "0.18018004852776617"
            ]
          },
          "metadata": {},
          "execution_count": 325
        }
      ]
    },
    {
      "cell_type": "markdown",
      "source": [
        "Ques12)<br>\n",
        "Sol)<br>\n",
        "Broadcasting means transmit the same message to all connected to the ntwork<br> \n",
        "In numpy, duplicating and concatenating an array to the same of another array in order to compute element-wise operations. Let's suppose there are two arrays a and b.<br>\n",
        "Follwoing example shows the broadcasting of vector b on vector a over multiplication."
      ],
      "metadata": {
        "id": "3yYrxJoVmwYF"
      }
    },
    {
      "cell_type": "code",
      "source": [
        "#Element wise multiplication operation\n",
        "a = np.array([1, 2, 3])\n",
        "b = np.array([4, 4, 4])\n",
        "a * b"
      ],
      "metadata": {
        "colab": {
          "base_uri": "https://localhost:8080/"
        },
        "id": "pB0q9vsDn4ny",
        "outputId": "4b009871-5b0b-430f-fe92-c67345ce2f9f"
      },
      "execution_count": 288,
      "outputs": [
        {
          "output_type": "execute_result",
          "data": {
            "text/plain": [
              "array([ 4,  8, 12])"
            ]
          },
          "metadata": {},
          "execution_count": 288
        }
      ]
    },
    {
      "cell_type": "code",
      "source": [
        "#Multiplication operation using broadcasting\n",
        "a = np.array([1, 2, 3])\n",
        "b = np.array([4])\n",
        "a * b"
      ],
      "metadata": {
        "colab": {
          "base_uri": "https://localhost:8080/"
        },
        "id": "PA-WOt-eoj25",
        "outputId": "29964cef-ca22-42f4-c8f7-ee7b4a74b073"
      },
      "execution_count": 289,
      "outputs": [
        {
          "output_type": "execute_result",
          "data": {
            "text/plain": [
              "array([ 4,  8, 12])"
            ]
          },
          "metadata": {},
          "execution_count": 289
        }
      ]
    },
    {
      "cell_type": "code",
      "source": [
        "#Ques13)\n",
        "arr = np.random.rand(10)\n",
        "print(arr)"
      ],
      "metadata": {
        "colab": {
          "base_uri": "https://localhost:8080/"
        },
        "id": "rMlRo36-SYCT",
        "outputId": "cae95666-33d5-4cd3-9f73-ca26254f81de"
      },
      "execution_count": 291,
      "outputs": [
        {
          "output_type": "stream",
          "name": "stdout",
          "text": [
            "[0.505526   0.54617607 0.30853667 0.40249968 0.02401642 0.23002638\n",
            " 0.78809793 0.71142132 0.07584887 0.37490384]\n"
          ]
        }
      ]
    },
    {
      "cell_type": "code",
      "source": [
        "def argmin(arr):\n",
        "  aux = arr[0]\n",
        "  ind = 0\n",
        "  for i, val in enumerate(arr):\n",
        "    if val < aux:\n",
        "      aux = val\n",
        "      ind = i\n",
        "  return ind\n",
        "print(argmin(arr))\n",
        "print(np.argmin(arr))  "
      ],
      "metadata": {
        "colab": {
          "base_uri": "https://localhost:8080/"
        },
        "id": "YpQZWZ9SS7XE",
        "outputId": "a6f3ed99-456e-4e11-caba-7888036d9fb2"
      },
      "execution_count": 292,
      "outputs": [
        {
          "output_type": "stream",
          "name": "stdout",
          "text": [
            "4\n",
            "4\n"
          ]
        }
      ]
    }
  ]
}